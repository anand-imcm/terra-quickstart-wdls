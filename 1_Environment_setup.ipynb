{
 "cells": [
  {
   "cell_type": "markdown",
   "metadata": {},
   "source": [
    "# Opening notebooks in shared workspaces\n",
    "\n",
    "Master copies of notebooks should not be run or edited unless you intend to improve the code. As a general rule, it is good to be cautious when editing a notebook in a shared workspace, because you don't want to overwrite the work of your collaborators. Best practices is to test in a cloned workspace with an easily identifiable name."
   ]
  },
  {
   "cell_type": "markdown",
   "metadata": {},
   "source": [
    "# A note about setup notebooks\n",
    "\n",
    "In this notebook we install a collection of R packages and Jupyter extensions above and beyond what is installed by default. These are packages used in one or more of the notebooks in this workspace. \n",
    "\n",
    "**Directons**   \n",
    "Run this notebook in your workspace before running any other R notebooks.\n",
    "\n",
    "This notebook needs to be rerun when your notebook runtime environment (VM or cluster) is recreated. Note that this is rare -- when you stop using a notebook, your VM is paused, not deleted. Your cluster only recreates after you click the \"Delete cluster\" button."
   ]
  },
  {
   "cell_type": "markdown",
   "metadata": {},
   "source": [
    "# Install R packages\n",
    "\n"
   ]
  },
  {
   "cell_type": "code",
   "execution_count": null,
   "metadata": {},
   "outputs": [],
   "source": [
    "# This line defines a time-saving command, `install_if_missing,` that checks to see if the needed libraries are \n",
    "# already installed and then installs them oinly if they're missing. The command will be used below.\n",
    "\n",
    "install_if_missing <- function(packages) {\n",
    "    if (length(setdiff(packages, rownames(installed.packages()))) > 0) {\n",
    "        install.packages(setdiff(packages, rownames(installed.packages())))\n",
    "    }\n",
    "}"
   ]
  },
  {
   "cell_type": "markdown",
   "metadata": {},
   "source": [
    "## Generally useful R packages"
   ]
  },
  {
   "cell_type": "code",
   "execution_count": null,
   "metadata": {
    "scrolled": false
   },
   "outputs": [],
   "source": [
    "# Use the command defined above to install the nine R packages in parentheses below\n",
    "\n",
    "install_if_missing(c('tidyverse','viridis', 'ggthemes', 'pryr', 'skimr',\n",
    "                     'testthat', 'reticulate', 'data.table', 'RCurl'))\n",
    "\n",
    "# There may be a warning in pink that says 'lib' is unspecified, which you can ignore. "
   ]
  },
  {
   "cell_type": "markdown",
   "metadata": {},
   "source": [
    "## Leonardo R package"
   ]
  },
  {
   "cell_type": "markdown",
   "metadata": {},
   "source": [
    "Leonardo is a service that provides access to interactive tools like Jupyter, RStudio, and Hail running in the cloud inside the Terra security boundary."
   ]
  },
  {
   "cell_type": "code",
   "execution_count": null,
   "metadata": {},
   "outputs": [],
   "source": [
    "# Install the package of libraries that Leonardo needs, which are hosted on github\n",
    "\n",
    "devtools::install_github('DataBiosphere/ronaldo')"
   ]
  },
  {
   "cell_type": "markdown",
   "metadata": {},
   "source": [
    "# Install notebook extentions"
   ]
  },
  {
   "cell_type": "markdown",
   "metadata": {},
   "source": [
    "Jupyter notebook extensions are useful add-ons, developed by the community, to extend notebook functionality. You can read more about notebook extentions and how they work [here](http://www.blog.pythonlibrary.org/2018/10/02/jupyter-notebook-extension-basics/)."
   ]
  },
  {
   "cell_type": "markdown",
   "metadata": {},
   "source": [
    "## Code folding extension"
   ]
  },
  {
   "cell_type": "code",
   "execution_count": null,
   "metadata": {},
   "outputs": [],
   "source": [
    "# Install the code-folding extention \n",
    "\n",
    "system(stringr::str_glue('jupyter nbextension install /usr/local/lib/python3.6/site-packages/jupyter_contrib_nbextensions/nbextensions/codefolding --user 2>&1'),\n",
    "       intern = TRUE)\n",
    "system('jupyter nbextension enable codefolding/main 2>&1', intern=TRUE)"
   ]
  },
  {
   "cell_type": "markdown",
   "metadata": {},
   "source": [
    "## Collapsible headings extension"
   ]
  },
  {
   "cell_type": "code",
   "execution_count": null,
   "metadata": {},
   "outputs": [],
   "source": [
    "# Install the collapsible headings extension\n",
    "\n",
    "system(stringr::str_glue('jupyter nbextension install /usr/local/lib/python3.6/site-packages/jupyter_contrib_nbextensions/nbextensions/collapsible_headings --user 2>&1'),\n",
    "       intern = TRUE)\n",
    "system('jupyter nbextension enable collapsible_headings/main 2>&1', intern=TRUE)"
   ]
  },
  {
   "cell_type": "markdown",
   "metadata": {},
   "source": [
    "# Confirm that the R packages loaded properly"
   ]
  },
  {
   "cell_type": "code",
   "execution_count": null,
   "metadata": {},
   "outputs": [],
   "source": [
    "# Warnings that objects are masked between R packages are to be expected and you can ignore them \n",
    "\n",
    "library(viridis)    # A nice color scheme for plots.\n",
    "library(ggthemes)   # Common themes to change the look and feel of plots.\n",
    "library(scales)     # Graphical scales map data to aesthetics in plots.\n",
    "library(testthat)   # Testing functions.\n",
    "library(assertthat) # Assertion functions.\n",
    "library(pryr)       # Memory usage functions.\n",
    "library(skimr)      # Summary statistics for dataframes.\n",
    "library(bigrquery)  # BigQuery R client.\n",
    "library(tidyverse)  # Data wrangling packages.\n",
    "library(reticulate) # Python R client.\n",
    "\n",
    "library(Ronaldo)    # Leonardo R package."
   ]
  },
  {
   "cell_type": "markdown",
   "metadata": {},
   "source": [
    "# Troubleshooting\n",
    "\n",
    "This notebook installs the most recent versions of R packages from [CRAN](https://cran.r-project.org/) and Python packages from [pip](https://pypi.org/project/pip/) on to your VM. Additionally, some packages come from [GitHub](https://github.com/) or [Cloud Source Repositories](https://cloud.google.com/source-repositories/).\n",
    "\n",
    "1. If you encounter any errors, first just try `Kernel -> Restart & Run All`.\n",
    "1. If an R package still fails to install:\n",
    " - Open a terminal by clicking on the terminal icon next to 'Notebook Runtime' in the upper top right corner of the window\n",
    " - Type `R` to start R in the terminal\n",
    " - Type `install.packages(\"qwraps2\")` to get a more detailed error message. Replace `qwraps2` with the name of which ever package is failing to install.\n",
    "1. If that error message tells you what you need to do to resolve the issue, great! If not, copy and paste the error message into Google Search for more help. "
   ]
  },
  {
   "cell_type": "markdown",
   "metadata": {},
   "source": [
    "# Provenance"
   ]
  },
  {
   "cell_type": "markdown",
   "metadata": {},
   "source": [
    "Provenance is a record of exactly the environment you used when running the notebook, which is helpful when you return to it months later, and is part of the Best practices for reproducible research."
   ]
  },
  {
   "cell_type": "code",
   "execution_count": null,
   "metadata": {},
   "outputs": [],
   "source": [
    "devtools::session_info()"
   ]
  },
  {
   "cell_type": "markdown",
   "metadata": {},
   "source": [
    "Copyright 2019 The Broad Institute, Inc., Verily Life Sciences, LLC All rights reserved.\n",
    "\n",
    "This software may be modified and distributed under the terms of the BSD license. See the LICENSE file for details."
   ]
  }
 ],
 "metadata": {
  "kernelspec": {
   "display_name": "R",
   "language": "R",
   "name": "ir"
  },
  "language_info": {
   "codemirror_mode": "r",
   "file_extension": ".r",
   "mimetype": "text/x-r-source",
   "name": "R",
   "pygments_lexer": "r",
   "version": "3.5.2"
  },
  "toc": {
   "base_numbering": 1,
   "nav_menu": {},
   "number_sections": true,
   "sideBar": true,
   "skip_h1_title": false,
   "title_cell": "Table of Contents",
   "title_sidebar": "Contents",
   "toc_cell": false,
   "toc_position": {
    "height": "calc(100% - 180px)",
    "left": "10px",
    "top": "150px",
    "width": "290px"
   },
   "toc_section_display": true,
   "toc_window_display": true
  }
 },
 "nbformat": 4,
 "nbformat_minor": 2
}
