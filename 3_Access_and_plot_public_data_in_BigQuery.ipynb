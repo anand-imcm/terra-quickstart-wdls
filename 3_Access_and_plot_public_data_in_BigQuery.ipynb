{
 "cells": [
  {
   "cell_type": "markdown",
   "metadata": {},
   "source": [
    "# A note about opening notebooks in shared workspaces <a class=\"tocSkip\">\n",
    "\n",
    "Please do not run or edit master copies of notebooks unless you intend to improve the code. As a general rule, it is good to be cautious when editing a notebook in a shared workspace, because you don't want to overwrite the work of your collaborators. Best practices is to test in a cloned workspace or duplicate notebook with an easily identifiable name.  "
   ]
  },
  {
   "cell_type": "markdown",
   "metadata": {},
   "source": [
    "# What is BigQuery? <a class=\"tocSkip\">\n",
    "BigQuery is the Google Cloud Storage solution for structured data (like a spreadsheet optimized for quick retieval of particular sections that you access with a \"query\". To learn more, see this five-minute video from Google here. Many datasets, including the public-access 1,000 Genomes Project, are stored in BigQuery, for anyone to access.\n",
    "\n",
    "# Notebook overview <a class=\"tocSkip\">\n",
    "\n",
    "## 1,000 Genomes via bigrquery and dplyr <a class=\"tocSkip\">\n",
    "\n",
    "This notebook demonstrates two ways to access BigQuery in an R-based notebook:\n",
    "1. Using SQL syntax\n",
    "2. Using only R code to extract the data of interest from BigQuery"
   ]
  },
  {
   "cell_type": "markdown",
   "metadata": {},
   "source": [
    "# R-environment setup\n",
    "\n",
    "First, be sure to run the general notebook **`R environment setup`** in this workspace. "
   ]
  },
  {
   "cell_type": "markdown",
   "metadata": {},
   "source": [
    "Then run the cells below to add additional needed libraries, set the project id, and authorize the BigQuery client. Details about what each individual code cell does are included in green comments for reference. \n",
    "\n",
    "**Note** that when you run these cells, output in a red box does not signify that the code is broken, and will not affect how the notebook runs."
   ]
  },
  {
   "cell_type": "code",
   "execution_count": null,
   "metadata": {},
   "outputs": [],
   "source": [
    "# Load additional R libraries needed for this notebook into memory\n",
    "# There may be warnings in pink indicating that objects are 'masked'.  These warnings can be ignored. \n",
    "\n",
    "# The bigrquery package makes it easy to work with data stored in Google BigQuery by allowing you to query \n",
    "# BigQuery tables and retrieve metadata about your projects, datasets, tables, and jobs\n",
    "library(bigrquery)\n",
    "\n",
    "# ggplot2 is a library of integrated plotting functions\n",
    "library(ggplot2)\n",
    "\n",
    "# dplyr is an R package for working with structured data (like BigQuery) both in and outside of R\n",
    "library(dplyr)\n",
    "\n",
    "# skimr handles different data types and returns a skim_df object which can be included in a \n",
    "# tidyverse pipeline or displayed nicely for the human reader\n",
    "library(skimr)"
   ]
  },
  {
   "cell_type": "code",
   "execution_count": null,
   "metadata": {},
   "outputs": [],
   "source": [
    "# Set the project id of the clould project to bill for queries to BigQuery\n",
    "# Note that although you do pay a fee for the query in this notebook, it is very small (cents)\n",
    "BILLING_PROJECT_ID <- Sys.getenv('GOOGLE_PROJECT')"
   ]
  },
  {
   "cell_type": "code",
   "execution_count": null,
   "metadata": {},
   "outputs": [],
   "source": [
    "# To access BigQuery, you must first autheniticate, or verify, your identity.\n",
    "# The following command does that\n",
    "bigrquery::set_service_token(Ronaldo::getServiceAccountKey())"
   ]
  },
  {
   "cell_type": "markdown",
   "metadata": {},
   "source": [
    "# Retrieve filtered data\n",
    "Now that we've set up the virtual compute environment, BigQuery authentication and billing, let’s retrieve a subset of fields and samples metadata in the [1000 Genomes](http://www.internationalgenome.org/data \"1000 Genomes\") dataset.\n",
    "\n",
    "We will do this in two different ways. Both return the same results.\n",
    "\n",
    "1. Using bigrquery (standard SQL)\n",
    "2. Using dplyr and dbplyr"
   ]
  },
  {
   "cell_type": "markdown",
   "metadata": {},
   "source": [
    "## Option 1: Using bigrquery (SQL)\n",
    "\n",
    "To learn more about SQL syntax see the [BigQuery standard SQL reference](https://cloud.google.com/bigquery/docs/reference/standard-sql/)."
   ]
  },
  {
   "cell_type": "code",
   "execution_count": null,
   "metadata": {},
   "outputs": [],
   "source": [
    "# Run a query from the public-access 1,000 genomes data in BigQuery with standard SQL \n",
    "phase1_samples_tbl <- bigrquery::bq_project_query(\n",
    "    BILLING_PROJECT_ID,\n",
    "    query = '\n",
    "SELECT\n",
    "  Sample,\n",
    "  Gender,\n",
    "  Relationship,\n",
    "  Population,\n",
    "  Population_Description,\n",
    "  Super_Population,\n",
    "  Super_Population_Description,\n",
    "  Total_Exome_Sequence,\n",
    "  Main_Project_E_Platform,\n",
    "  Main_Project_E_Centers\n",
    "FROM\n",
    "  `bigquery-public-data.human_genome_variants.1000_genomes_sample_info`\n",
    "WHERE\n",
    "  -- Only include information for samples in phase 1.\n",
    "  In_Phase1_Integrated_Variant_Set = TRUE\n",
    "  -- Only include information for samples with these relationships.\n",
    "  AND Relationship IN (\"\", \"unrel\", \"child\", \"father\", \"mother\",\n",
    "  \"mat grandmother\", \"pat grandmother\",\n",
    "  \"mat grandfather\", \"pat grandfather\")\n",
    "')\n",
    "\n",
    "phase1_samples <- bigrquery::bq_table_download(phase1_samples_tbl)"
   ]
  },
  {
   "cell_type": "markdown",
   "metadata": {},
   "source": [
    "The next cell serves as a sanity check. It should show that 1086 rows and 10 columns were retrieved into the \"phase1_samples\" table."
   ]
  },
  {
   "cell_type": "code",
   "execution_count": null,
   "metadata": {},
   "outputs": [],
   "source": [
    "# Print out the dimensions of the table\n",
    "dim(phase1_samples)"
   ]
  },
  {
   "cell_type": "markdown",
   "metadata": {},
   "source": [
    "The next cell provides summary statistics of the samples."
   ]
  },
  {
   "cell_type": "code",
   "execution_count": null,
   "metadata": {},
   "outputs": [],
   "source": [
    "print(skim(phase1_samples))"
   ]
  },
  {
   "cell_type": "code",
   "execution_count": null,
   "metadata": {},
   "outputs": [],
   "source": [
    "# Plot the relationship of individuals contained in the data set\n",
    "# The null condition (first column) indicates that no individuals were related to this person\n",
    "ggplot(data = phase1_samples,\n",
    "       aes(x=Relationship, fill=Relationship)) +\n",
    "  geom_bar() +\n",
    "  theme(axis.text.x = element_text(angle = 50, hjust = 1, vjust = 1))"
   ]
  },
  {
   "cell_type": "markdown",
   "metadata": {},
   "source": [
    "## Option 2: Using dplyr\n",
    "\n",
    "**dplyr** is an R package that provides a common set of \"verbs\" to manipulate tabular data.\n",
    "\n",
    "To learn more about dplyr see [R for Data Science Chapter 5 Data transformation](http://r4ds.had.co.nz/transform.html \"Chapter 5\")."
   ]
  },
  {
   "cell_type": "code",
   "execution_count": null,
   "metadata": {},
   "outputs": [],
   "source": [
    "# Create a \"connection\" to a public BigQuery dataset\n",
    "dbcon <- bigrquery::src_bigquery(project = 'bigquery-public-data',\n",
    "                                 dataset = 'human_genome_variants',\n",
    "                                 billing = BILLING_PROJECT_ID)\n",
    "\n",
    "# Create a 'virtual dataframe' backed by a BigQuery table\n",
    "sample_info <- dplyr::tbl(dbcon, '1000_genomes_sample_info')"
   ]
  },
  {
   "cell_type": "code",
   "execution_count": null,
   "metadata": {},
   "outputs": [],
   "source": [
    "# Filter to only include information for samples in phase 1 with the relationshionships below\n",
    "phase1_only <- sample_info %>% filter(\n",
    "    In_Phase1_Integrated_Variant_Set == TRUE,\n",
    "    Relationship %in% c(\n",
    "      '', 'unrel', 'child', 'father', 'mother',\n",
    "      'mat grandmother', 'pat grandmother',\n",
    "      'mat grandfather', 'pat grandfather')\n",
    "  )\n",
    "# Nothing is computed on BigQuery yet."
   ]
  },
  {
   "cell_type": "code",
   "execution_count": null,
   "metadata": {},
   "outputs": [],
   "source": [
    "# Define a variable, \"sample_fields\", with the included parameters\n",
    "sample_fields <- phase1_only %>% select(\n",
    "  Sample,\n",
    "  Gender,\n",
    "  Relationship,\n",
    "  Population,\n",
    "  Population_Description,\n",
    "  Super_Population,\n",
    "  Super_Population_Description,\n",
    "  Total_Exome_Sequence,\n",
    "  Main_Project_E_Platform,\n",
    "  Main_Project_E_Centers\n",
    "  )\n",
    "# Still nothing computed on BigQuery."
   ]
  },
  {
   "cell_type": "code",
   "execution_count": null,
   "metadata": {},
   "outputs": [],
   "source": [
    "# Optional sanity check: Take a look at the SQL\n",
    "dplyr::show_query(sample_fields)"
   ]
  },
  {
   "cell_type": "code",
   "execution_count": null,
   "metadata": {},
   "outputs": [],
   "source": [
    "# Optional: See how much data this will return\n",
    "sample_fields %>% summarize(cnt = n()) %>% collect()"
   ]
  },
  {
   "cell_type": "code",
   "execution_count": null,
   "metadata": {},
   "outputs": [],
   "source": [
    "# Execute the query and return all results into an in-memory table in R\n",
    "phase1_samples <- sample_fields %>% collect()"
   ]
  },
  {
   "cell_type": "code",
   "execution_count": null,
   "metadata": {},
   "outputs": [],
   "source": [
    "# Sanity check: What are the dimensions of the phase1_sample table?\n",
    "dim(phase1_samples)"
   ]
  },
  {
   "cell_type": "code",
   "execution_count": null,
   "metadata": {},
   "outputs": [],
   "source": [
    "# Plot results\n",
    "ggplot(data = phase1_samples,\n",
    "       aes(x=Relationship, fill=Relationship)) +\n",
    "  geom_bar() +\n",
    "  theme(axis.text.x = element_text(angle = 50, hjust = 1, vjust = 1))"
   ]
  },
  {
   "cell_type": "markdown",
   "metadata": {},
   "source": [
    "# Provenance"
   ]
  },
  {
   "cell_type": "code",
   "execution_count": null,
   "metadata": {},
   "outputs": [],
   "source": [
    "# Including this information allows you to easly go back and see the details of your notebook environment\n",
    "# Provenance is also recommended as best practices for reproducible research\n",
    "devtools::session_info()"
   ]
  },
  {
   "cell_type": "markdown",
   "metadata": {},
   "source": [
    "Copyright 2019 The Broad Institute, Inc., Verily Life Sciences, LLC All rights reserved.\n",
    "\n",
    "This software may be modified and distributed under the terms of the BSD license. See the LICENSE file for details."
   ]
  }
 ],
 "metadata": {
  "kernelspec": {
   "display_name": "R",
   "language": "R",
   "name": "ir"
  },
  "language_info": {
   "codemirror_mode": "r",
   "file_extension": ".r",
   "mimetype": "text/x-r-source",
   "name": "R",
   "pygments_lexer": "r",
   "version": "3.5.2"
  },
  "toc": {
   "base_numbering": 1,
   "nav_menu": {},
   "number_sections": true,
   "sideBar": true,
   "skip_h1_title": false,
   "title_cell": "Table of Contents",
   "title_sidebar": "Contents",
   "toc_cell": false,
   "toc_position": {
    "height": "calc(100% - 180px)",
    "left": "10px",
    "top": "150px",
    "width": "311.516px"
   },
   "toc_section_display": true,
   "toc_window_display": true
  }
 },
 "nbformat": 4,
 "nbformat_minor": 2
}
